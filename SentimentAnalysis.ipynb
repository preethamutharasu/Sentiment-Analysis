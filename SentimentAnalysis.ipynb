{
 "cells": [
  {
   "cell_type": "markdown",
   "id": "7fae6467",
   "metadata": {},
   "source": [
    "# Sentiment Analysis on Twitter data"
   ]
  },
  {
   "cell_type": "code",
   "execution_count": 1,
   "id": "8148f0c0-0989-4375-8f95-95bd3bad73f1",
   "metadata": {},
   "outputs": [],
   "source": [
    "%%capture\n",
    "!pip install datasets\n",
    "!pip install transformers==4.28.1\n",
    "!pip install emoji\n",
    "!pip install clean-text"
   ]
  },
  {
   "cell_type": "code",
   "execution_count": 2,
   "id": "d3fb016e-0671-4276-bde1-9944b25dceeb",
   "metadata": {},
   "outputs": [],
   "source": [
    "%%capture\n",
    "!pip install numpy\n",
    "!pip install pandas\n",
    "!pip install scikit-learn"
   ]
  },
  {
   "cell_type": "code",
   "execution_count": 3,
   "id": "31ef7b4c-3b1a-4f15-9df9-2c0639744c8a",
   "metadata": {},
   "outputs": [],
   "source": [
    "%%capture\n",
    "!pip install tqdm\n",
    "!pip install matplotlib\n",
    "!pip install seaborn"
   ]
  },
  {
   "cell_type": "markdown",
   "id": "00b7c171-17fd-4aef-9e87-39cc25d7f6ce",
   "metadata": {},
   "source": [
    "# Importing the necessary libraries"
   ]
  },
  {
   "cell_type": "code",
   "execution_count": 8,
   "id": "d558464c-2b5d-4bce-a9bd-56a2c9900a06",
   "metadata": {},
   "outputs": [],
   "source": [
    "import numpy as np\n",
    "import pandas as pd\n",
    "\n",
    "from sklearn.model_selection import train_test_split\n",
    "from sklearn.metrics import accuracy_score, precision_recall_fscore_support\n",
    "import torch\n",
    "from transformers import BartForSequenceClassification, BartTokenizer\n",
    "from transformers import AutoTokenizer, AutoModelForSequenceClassification, Trainer, TrainingArguments\n",
    "from datasets import load_dataset\n",
    "from datasets import Dataset\n",
    "\n",
    "import matplotlib.pyplot as plt\n",
    "%matplotlib inline\n",
    "import seaborn as sns\n",
    "plt.style.use('ggplot')\n",
    "\n",
    "from emoji import demojize\n",
    "from tqdm.auto import tqdm\n",
    "from IPython import display\n",
    "import pprint\n",
    "import json\n",
    "import warnings\n",
    "warnings.filterwarnings(\"ignore\")"
   ]
  },
  {
   "cell_type": "code",
   "execution_count": 5,
   "id": "b8d1217a-a5d0-4741-9b8a-8f7337b0e4ec",
   "metadata": {},
   "outputs": [
    {
     "name": "stdout",
     "output_type": "stream",
     "text": [
      "cuda\n"
     ]
    }
   ],
   "source": [
    "#fixed random seed - for reproducibility\n",
    "SEED = 101\n",
    "#checking for availability of GPU & assigning it to device\n",
    "DEVICE = torch.device(\"cuda\" if torch.cuda.is_available() else \"cpu\")\n",
    "print(DEVICE)"
   ]
  },
  {
   "cell_type": "markdown",
   "id": "e41a2f85",
   "metadata": {},
   "source": [
    "# Loading and Analysing data"
   ]
  },
  {
   "cell_type": "code",
   "execution_count": 16,
   "id": "31d8c184-ca1a-450f-ad0e-361591a76119",
   "metadata": {},
   "outputs": [
    {
     "data": {
      "text/html": [
       "<div>\n",
       "<style scoped>\n",
       "    .dataframe tbody tr th:only-of-type {\n",
       "        vertical-align: middle;\n",
       "    }\n",
       "\n",
       "    .dataframe tbody tr th {\n",
       "        vertical-align: top;\n",
       "    }\n",
       "\n",
       "    .dataframe thead th {\n",
       "        text-align: right;\n",
       "    }\n",
       "</style>\n",
       "<table border=\"1\" class=\"dataframe\">\n",
       "  <thead>\n",
       "    <tr style=\"text-align: right;\">\n",
       "      <th></th>\n",
       "      <th>is_positive</th>\n",
       "      <th>id</th>\n",
       "      <th>datetime</th>\n",
       "      <th>user</th>\n",
       "      <th>message_clean</th>\n",
       "      <th>bart_is_positive</th>\n",
       "    </tr>\n",
       "  </thead>\n",
       "  <tbody>\n",
       "    <tr>\n",
       "      <th>0</th>\n",
       "      <td>0</td>\n",
       "      <td>2323266775</td>\n",
       "      <td>Thu Jun 25 00:15:43 PDT 2009</td>\n",
       "      <td>gulti</td>\n",
       "      <td>had dream sneaked out escape into the</td>\n",
       "      <td>0.075236</td>\n",
       "    </tr>\n",
       "    <tr>\n",
       "      <th>1</th>\n",
       "      <td>1</td>\n",
       "      <td>2192626220</td>\n",
       "      <td>Tue Jun 16 07:18:56 PDT 2009</td>\n",
       "      <td>lpgrant</td>\n",
       "      <td>richmondgl murder train just cracked but you r...</td>\n",
       "      <td>0.003549</td>\n",
       "    </tr>\n",
       "  </tbody>\n",
       "</table>\n",
       "</div>"
      ],
      "text/plain": [
       "   is_positive          id                      datetime     user  \\\n",
       "0            0  2323266775  Thu Jun 25 00:15:43 PDT 2009    gulti   \n",
       "1            1  2192626220  Tue Jun 16 07:18:56 PDT 2009  lpgrant   \n",
       "\n",
       "                                       message_clean  bart_is_positive  \n",
       "0              had dream sneaked out escape into the          0.075236  \n",
       "1  richmondgl murder train just cracked but you r...          0.003549  "
      ]
     },
     "execution_count": 16,
     "metadata": {},
     "output_type": "execute_result"
    }
   ],
   "source": [
    "#Read the small dataset (csv file) into pandas dataframe\n",
    "df=pd.read_csv('dataset_small_w_bart_preds.csv')\n",
    "df.head(2)"
   ]
  },
  {
   "cell_type": "markdown",
   "id": "977b9bef",
   "metadata": {},
   "source": [
    "## 1. pie chart for sentiment distribution - to check for imbalance dataset"
   ]
  },
  {
   "cell_type": "code",
   "execution_count": 17,
   "id": "afc06cea-24e5-4c2e-bd2a-5e4a8c7d04f2",
   "metadata": {},
   "outputs": [
    {
     "data": {
      "text/html": [
       "<style type=\"text/css\">\n",
       "#T_ceb1c_row0_col0, #T_ceb1c_row0_col1 {\n",
       "  background-color: #000000;\n",
       "  color: #f1f1f1;\n",
       "}\n",
       "#T_ceb1c_row1_col0, #T_ceb1c_row1_col1 {\n",
       "  background-color: #ffffff;\n",
       "  color: #000000;\n",
       "}\n",
       "</style>\n",
       "<table id=\"T_ceb1c\">\n",
       "  <thead>\n",
       "    <tr>\n",
       "      <th class=\"blank level0\" >&nbsp;</th>\n",
       "      <th id=\"T_ceb1c_level0_col0\" class=\"col_heading level0 col0\" >is_positive</th>\n",
       "      <th id=\"T_ceb1c_level0_col1\" class=\"col_heading level0 col1\" >message_clean</th>\n",
       "    </tr>\n",
       "  </thead>\n",
       "  <tbody>\n",
       "    <tr>\n",
       "      <th id=\"T_ceb1c_level0_row0\" class=\"row_heading level0 row0\" >1</th>\n",
       "      <td id=\"T_ceb1c_row0_col0\" class=\"data row0 col0\" >1</td>\n",
       "      <td id=\"T_ceb1c_row0_col1\" class=\"data row0 col1\" >10088</td>\n",
       "    </tr>\n",
       "    <tr>\n",
       "      <th id=\"T_ceb1c_level0_row1\" class=\"row_heading level0 row1\" >0</th>\n",
       "      <td id=\"T_ceb1c_row1_col0\" class=\"data row1 col0\" >0</td>\n",
       "      <td id=\"T_ceb1c_row1_col1\" class=\"data row1 col1\" >9911</td>\n",
       "    </tr>\n",
       "  </tbody>\n",
       "</table>\n"
      ],
      "text/plain": [
       "<pandas.io.formats.style.Styler at 0x2b14163c32b0>"
      ]
     },
     "execution_count": 17,
     "metadata": {},
     "output_type": "execute_result"
    }
   ],
   "source": [
    "#Group the data by sentiment and count the number of messages for each category or label\n",
    "class_df = df.groupby('is_positive').count()['message_clean'].reset_index().sort_values(by='message_clean',ascending=False)\n",
    "class_df.style.background_gradient(cmap='binary')"
   ]
  },
  {
   "cell_type": "code",
   "execution_count": 24,
   "id": "be417be5-61ad-4f28-9a8c-a1116863dbcf",
   "metadata": {},
   "outputs": [
    {
     "data": {
      "text/plain": [
       "[None, None, None, None]"
      ]
     },
     "execution_count": 24,
     "metadata": {},
     "output_type": "execute_result"
    },
    {
     "data": {
      "image/png": "[encoded data removed]",
      "text/plain": [
       "<Figure size 640x480 with 1 Axes>"
      ]
     },
     "metadata": {},
     "output_type": "display_data"
    }
   ],
   "source": [
    "percent_class=class_df.message_clean\n",
    "labels= class_df.is_positive\n",
    "colors = ['#17C37B','#F92969']\n",
    "\n",
    "#create a pie chart with percentage of messages for each category or label\n",
    "my_pie,_,_ = plt.pie(percent_class,radius = 1.2,labels=labels,colors=colors,autopct=\"%.1f%%\")\n",
    "plt.title('Sentiment distribution')\n",
    "plt.setp(my_pie, width=0.6, edgecolor='white')"
   ]
  },
  {
   "cell_type": "markdown",
   "id": "80312e4f",
   "metadata": {},
   "source": [
    "## 2. Time series of sentiment over time"
   ]
  },
  {
   "cell_type": "code",
   "execution_count": 21,
   "id": "ffa8030c-8290-48ae-bc53-09d5e618ca3d",
   "metadata": {},
   "outputs": [
    {
     "data": {
      "image/png": "[encoded data removed]",
      "text/plain": [
       "<Figure size 600x600 with 1 Axes>"
      ]
     },
     "metadata": {},
     "output_type": "display_data"
    }
   ],
   "source": [
    "df['datetime'] = pd.to_datetime(df['datetime'])\n",
    "\n",
    "# Group the data by date and calculate the average sentiment\n",
    "daily_sentiment = df.groupby(df['datetime'].dt.date)['is_positive'].mean()\n",
    "\n",
    "# Create a line plot\n",
    "plt.figure(figsize=(6, 6))\n",
    "plt.plot(daily_sentiment.index, daily_sentiment.values)\n",
    "plt.xlabel('Date')\n",
    "plt.ylabel('Average Sentiment')\n",
    "plt.title('Sentiment Trend Over Time')\n",
    "plt.xticks(rotation=45)\n",
    "plt.show()"
   ]
  },
  {
   "cell_type": "markdown",
   "id": "1ef43a00",
   "metadata": {},
   "source": [
    "## 3. user distribution analysis"
   ]
  },
  {
   "cell_type": "code",
   "execution_count": 26,
   "id": "61aef4ac-6034-41f4-a8d5-a7d049570d38",
   "metadata": {},
   "outputs": [
    {
     "data": {
      "image/png": "[encoded data removed]",
      "text/plain": [
       "<Figure size 600x600 with 1 Axes>"
      ]
     },
     "metadata": {},
     "output_type": "display_data"
    }
   ],
   "source": [
    "#extract the top 10 users with the highest message count\n",
    "top_users = df['user'].value_counts().nlargest(10)\n",
    "\n",
    "#create a colormap using cmap\n",
    "cmap = plt.cm.get_cmap('viridis')\n",
    "\n",
    "# Create a bar plot for user distribution\n",
    "plt.figure(figsize=(6, 6))\n",
    "plt.bar(top_users.index, top_users.values, color =cmap(np.arange(len(top_users))))\n",
    "plt.xlabel('User')\n",
    "plt.ylabel('Message Count')\n",
    "plt.title('Top 10 Users by Message Count')\n",
    "plt.xticks(rotation=45)\n",
    "plt.show()"
   ]
  },
  {
   "cell_type": "markdown",
   "id": "58c3bce5",
   "metadata": {},
   "source": [
    "# EDA"
   ]
  },
  {
   "cell_type": "code",
   "execution_count": 27,
   "id": "6246991a-4af7-4aa0-b161-54726f1a39d7",
   "metadata": {},
   "outputs": [
    {
     "data": {
      "text/plain": [
       "0"
      ]
     },
     "execution_count": 27,
     "metadata": {},
     "output_type": "execute_result"
    }
   ],
   "source": [
    "#check for duplicate values\n",
    "duplicate_id = df[df['id'].duplicated()]\n",
    "duplicate_message = duplicate_id[duplicate_id['message_clean'].duplicated()]\n",
    "len(duplicate_message)"
   ]
  },
  {
   "cell_type": "code",
   "execution_count": 28,
   "id": "cbe003ed-1fdc-44ae-87cf-bbd28a56edef",
   "metadata": {},
   "outputs": [
    {
     "data": {
      "text/html": [
       "<div>\n",
       "<style scoped>\n",
       "    .dataframe tbody tr th:only-of-type {\n",
       "        vertical-align: middle;\n",
       "    }\n",
       "\n",
       "    .dataframe tbody tr th {\n",
       "        vertical-align: top;\n",
       "    }\n",
       "\n",
       "    .dataframe thead th {\n",
       "        text-align: right;\n",
       "    }\n",
       "</style>\n",
       "<table border=\"1\" class=\"dataframe\">\n",
       "  <thead>\n",
       "    <tr style=\"text-align: right;\">\n",
       "      <th></th>\n",
       "      <th>is_positive</th>\n",
       "      <th>id</th>\n",
       "      <th>datetime</th>\n",
       "      <th>user</th>\n",
       "      <th>message_clean</th>\n",
       "      <th>bart_is_positive</th>\n",
       "    </tr>\n",
       "  </thead>\n",
       "  <tbody>\n",
       "    <tr>\n",
       "      <th>8488</th>\n",
       "      <td>0</td>\n",
       "      <td>1759542071</td>\n",
       "      <td>2009-05-10 19:26:37</td>\n",
       "      <td>wayneswan</td>\n",
       "      <td>well looks like got the numbers all wrong agai...</td>\n",
       "      <td>0.004558</td>\n",
       "    </tr>\n",
       "  </tbody>\n",
       "</table>\n",
       "</div>"
      ],
      "text/plain": [
       "      is_positive          id            datetime       user  \\\n",
       "8488            0  1759542071 2009-05-10 19:26:37  wayneswan   \n",
       "\n",
       "                                          message_clean  bart_is_positive  \n",
       "8488  well looks like got the numbers all wrong agai...          0.004558  "
      ]
     },
     "execution_count": 28,
     "metadata": {},
     "output_type": "execute_result"
    }
   ],
   "source": [
    "duplicate_id "
   ]
  },
  {
   "cell_type": "code",
   "execution_count": 29,
   "id": "11ce6109-6341-4549-8577-49d8b641a479",
   "metadata": {},
   "outputs": [
    {
     "data": {
      "text/html": [
       "<div>\n",
       "<style scoped>\n",
       "    .dataframe tbody tr th:only-of-type {\n",
       "        vertical-align: middle;\n",
       "    }\n",
       "\n",
       "    .dataframe tbody tr th {\n",
       "        vertical-align: top;\n",
       "    }\n",
       "\n",
       "    .dataframe thead th {\n",
       "        text-align: right;\n",
       "    }\n",
       "</style>\n",
       "<table border=\"1\" class=\"dataframe\">\n",
       "  <thead>\n",
       "    <tr style=\"text-align: right;\">\n",
       "      <th></th>\n",
       "      <th>is_positive</th>\n",
       "      <th>id</th>\n",
       "      <th>datetime</th>\n",
       "      <th>user</th>\n",
       "      <th>message_clean</th>\n",
       "      <th>bart_is_positive</th>\n",
       "    </tr>\n",
       "  </thead>\n",
       "  <tbody>\n",
       "    <tr>\n",
       "      <th>17097</th>\n",
       "      <td>1</td>\n",
       "      <td>1677293720</td>\n",
       "      <td>2009-05-02 01:20:56</td>\n",
       "      <td>twitnando</td>\n",
       "      <td>NaN</td>\n",
       "      <td>0.792777</td>\n",
       "    </tr>\n",
       "  </tbody>\n",
       "</table>\n",
       "</div>"
      ],
      "text/plain": [
       "       is_positive          id            datetime       user message_clean  \\\n",
       "17097            1  1677293720 2009-05-02 01:20:56  twitnando           NaN   \n",
       "\n",
       "       bart_is_positive  \n",
       "17097          0.792777  "
      ]
     },
     "execution_count": 29,
     "metadata": {},
     "output_type": "execute_result"
    }
   ],
   "source": [
    "#check for null values\n",
    "df[df['message_clean'].isnull()]"
   ]
  },
  {
   "cell_type": "code",
   "execution_count": 30,
   "id": "8e96f826-9012-4e03-9a15-5bc76b688852",
   "metadata": {},
   "outputs": [],
   "source": [
    "df.dropna(inplace=True)"
   ]
  },
  {
   "cell_type": "code",
   "execution_count": null,
   "id": "93a645e2",
   "metadata": {},
   "outputs": [],
   "source": [
    "#recheck\n",
    "df[df['message_clean'].isnull()]"
   ]
  },
  {
   "cell_type": "code",
   "execution_count": 32,
   "id": "df05e9db-ba08-423f-8644-6ada031bb724",
   "metadata": {},
   "outputs": [],
   "source": [
    "#select specific column that are more important or based on our requirement \n",
    "df = df[['is_positive', 'id', 'message_clean']]"
   ]
  },
  {
   "cell_type": "code",
   "execution_count": 33,
   "id": "252d2785-fa99-4067-878b-6fa57952de63",
   "metadata": {},
   "outputs": [
    {
     "data": {
      "text/html": [
       "<div>\n",
       "<style scoped>\n",
       "    .dataframe tbody tr th:only-of-type {\n",
       "        vertical-align: middle;\n",
       "    }\n",
       "\n",
       "    .dataframe tbody tr th {\n",
       "        vertical-align: top;\n",
       "    }\n",
       "\n",
       "    .dataframe thead th {\n",
       "        text-align: right;\n",
       "    }\n",
       "</style>\n",
       "<table border=\"1\" class=\"dataframe\">\n",
       "  <thead>\n",
       "    <tr style=\"text-align: right;\">\n",
       "      <th></th>\n",
       "      <th>is_positive</th>\n",
       "      <th>id</th>\n",
       "      <th>message_clean</th>\n",
       "    </tr>\n",
       "  </thead>\n",
       "  <tbody>\n",
       "    <tr>\n",
       "      <th>0</th>\n",
       "      <td>0</td>\n",
       "      <td>2323266775</td>\n",
       "      <td>had dream sneaked out escape into the</td>\n",
       "    </tr>\n",
       "    <tr>\n",
       "      <th>1</th>\n",
       "      <td>1</td>\n",
       "      <td>2192626220</td>\n",
       "      <td>richmondgl murder train just cracked but you r...</td>\n",
       "    </tr>\n",
       "  </tbody>\n",
       "</table>\n",
       "</div>"
      ],
      "text/plain": [
       "   is_positive          id                                      message_clean\n",
       "0            0  2323266775              had dream sneaked out escape into the\n",
       "1            1  2192626220  richmondgl murder train just cracked but you r..."
      ]
     },
     "execution_count": 33,
     "metadata": {},
     "output_type": "execute_result"
    }
   ],
   "source": [
    "df.head(2)"
   ]
  },
  {
   "cell_type": "markdown",
   "id": "65e181f1",
   "metadata": {},
   "source": [
    "# Preprocessing"
   ]
  },
  {
   "cell_type": "code",
   "execution_count": 35,
   "id": "a8515a43-ff1b-4030-bd0c-8653dcb141cd",
   "metadata": {},
   "outputs": [],
   "source": [
    "#Preprocessing\n",
    "#the smaller dataset is already preprocessed and its understandable by checking out the message_clean in the \n",
    "#dataframe. If we are using the whole dataset, the following preprocessing function can be used."
   ]
  },
  {
   "cell_type": "code",
   "execution_count": 38,
   "id": "cd34b9e3-e87f-4b1b-b9f7-e1bcdda0d222",
   "metadata": {},
   "outputs": [
    {
     "name": "stderr",
     "output_type": "stream",
     "text": [
      "Since the GPL-licensed package `unidecode` is not installed, using Python's `unicodedata` package which yields worse results.\n"
     ]
    }
   ],
   "source": [
    "import re\n",
    "from cleantext import clean\n",
    "\n",
    "def text_preprocessing(text):\n",
    "    #Remove username\n",
    "    text = re.sub(r'@\\w+', '<USER>', text)\n",
    "\n",
    "    #Clean text\n",
    "    text = clean(text,\n",
    "        fix_unicode=True,\n",
    "        to_ascii=True,\n",
    "        lower=True,\n",
    "        no_line_breaks=False,\n",
    "        no_urls=True,\n",
    "        no_emails=True,\n",
    "        no_phone_numbers=True,\n",
    "        no_numbers=False,\n",
    "        no_digits=False,\n",
    "        no_currency_symbols=False,\n",
    "        no_punct=False,\n",
    "        replace_with_punct=\"\",\n",
    "        replace_with_url=\"<URL>\",\n",
    "        replace_with_email=\"<EMAIL>\",\n",
    "        replace_with_phone_number=\"<PHONE>\",\n",
    "        replace_with_number=\"<NUMBER>\",\n",
    "        replace_with_digit=\"0\",\n",
    "        replace_with_currency_symbol=\"<CUR>\",\n",
    "        lang=\"en\"\n",
    "    )\n",
    "\n",
    "    return text.lower()"
   ]
  },
  {
   "cell_type": "code",
   "execution_count": 37,
   "id": "61af4a2f-f944-4cc0-a882-2b1b1457356b",
   "metadata": {},
   "outputs": [
    {
     "data": {
      "text/html": [
       "<div>\n",
       "<style scoped>\n",
       "    .dataframe tbody tr th:only-of-type {\n",
       "        vertical-align: middle;\n",
       "    }\n",
       "\n",
       "    .dataframe tbody tr th {\n",
       "        vertical-align: top;\n",
       "    }\n",
       "\n",
       "    .dataframe thead th {\n",
       "        text-align: right;\n",
       "    }\n",
       "</style>\n",
       "<table border=\"1\" class=\"dataframe\">\n",
       "  <thead>\n",
       "    <tr style=\"text-align: right;\">\n",
       "      <th></th>\n",
       "      <th>is_positive</th>\n",
       "      <th>id</th>\n",
       "      <th>datetime</th>\n",
       "      <th>user</th>\n",
       "      <th>message</th>\n",
       "    </tr>\n",
       "  </thead>\n",
       "  <tbody>\n",
       "    <tr>\n",
       "      <th>0</th>\n",
       "      <td>0</td>\n",
       "      <td>1467810672</td>\n",
       "      <td>Mon Apr 06 22:19:49 PDT 2009</td>\n",
       "      <td>scotthamilton</td>\n",
       "      <td>is upset that he can't update his Facebook by ...</td>\n",
       "    </tr>\n",
       "    <tr>\n",
       "      <th>1</th>\n",
       "      <td>0</td>\n",
       "      <td>1467810917</td>\n",
       "      <td>Mon Apr 06 22:19:53 PDT 2009</td>\n",
       "      <td>mattycus</td>\n",
       "      <td>@Kenichan I dived many times for the ball. Man...</td>\n",
       "    </tr>\n",
       "  </tbody>\n",
       "</table>\n",
       "</div>"
      ],
      "text/plain": [
       "   is_positive          id                      datetime           user  \\\n",
       "0            0  1467810672  Mon Apr 06 22:19:49 PDT 2009  scotthamilton   \n",
       "1            0  1467810917  Mon Apr 06 22:19:53 PDT 2009       mattycus   \n",
       "\n",
       "                                             message  \n",
       "0  is upset that he can't update his Facebook by ...  \n",
       "1  @Kenichan I dived many times for the ball. Man...  "
      ]
     },
     "execution_count": 37,
     "metadata": {},
     "output_type": "execute_result"
    }
   ],
   "source": [
    "#Read the full dataset into pandas dataframe\n",
    "df_full =pd.read_csv('twitter_dataset_full.csv')\n",
    "df_full.head(2)"
   ]
  },
  {
   "cell_type": "code",
   "execution_count": 39,
   "id": "d98b2bb8-3cea-4d8f-bf06-fcbdbbe246f7",
   "metadata": {},
   "outputs": [
    {
     "name": "stdout",
     "output_type": "stream",
     "text": [
      "Original text message:  @Kenichan I dived many times for the ball. Managed to save 50%  The rest go out of bounds\n",
      "Preprocessed text message:  <user> i dived many times for the ball. managed to save 50% the rest go out of bounds\n"
     ]
    }
   ],
   "source": [
    "#check the preprocessing with text message from full dataset.\n",
    "text = df_full['message'].iloc[1]\n",
    "preprocessed_text = text_preprocessing(text)\n",
    "print('Original text message: ', text)\n",
    "print('Preprocessed text message: ', preprocessed_text)"
   ]
  },
  {
   "cell_type": "markdown",
   "id": "2957f911",
   "metadata": {},
   "source": [
    "# Training and evaluation"
   ]
  },
  {
   "cell_type": "code",
   "execution_count": 49,
   "id": "1b6b9c70-0abc-44d9-b158-d93ef867942c",
   "metadata": {},
   "outputs": [
    {
     "name": "stdout",
     "output_type": "stream",
     "text": [
      "(15999, 3)\n",
      "(4000, 3)\n"
     ]
    }
   ],
   "source": [
    "#split the dataframe into train and test sets.\n",
    "train, test = train_test_split(df, test_size=0.2, stratify=df[\"is_positive\"], random_state=SEED)\n",
    "\n",
    "train = train.reset_index(drop=True)\n",
    "test = test.reset_index(drop=True)\n",
    "\n",
    "print(train.shape)\n",
    "print(test.shape)\n",
    "\n",
    "#train['cleaned_message'] = train['message'].apply(preprocess_text)\n",
    "#test['cleaned_message'] = test['message'].apply(preprocess_text)"
   ]
  },
  {
   "cell_type": "code",
   "execution_count": 50,
   "id": "9ed2b3fc-7ef2-4a06-a3c1-950ba0f06250",
   "metadata": {},
   "outputs": [],
   "source": [
    "#Utilizing the base Zero shot model provided \n",
    "class BartZeroShot:\n",
    "    def __init__(self):\n",
    "\n",
    "        self.nli_model = BartForSequenceClassification.from_pretrained('facebook/bart-large-mnli')\n",
    "        self.nli_model = self.nli_model.to(DEVICE)\n",
    "        self.tokenizer = BartTokenizer.from_pretrained('facebook/bart-large-mnli')\n",
    "\n",
    "    def predict(self, sentence, label):\n",
    "        x = self.tokenizer.encode(sentence, f'this text is {label}',#f'This text is about {label}.',\n",
    "                             return_tensors='pt',\n",
    "                             max_length=self.tokenizer.model_max_length, #update\n",
    "                             truncation = True,     \n",
    "                             truncation_strategy='only_first')\n",
    "        logits = self.nli_model(x.to(DEVICE))[0]\n",
    "\n",
    "        entail_contradiction_logits = logits[:,[0,2]]\n",
    "        probs = entail_contradiction_logits.softmax(1)\n",
    "        prob_label_is_true = probs[:,1].item()\n",
    "        return prob_label_is_true"
   ]
  },
  {
   "cell_type": "code",
   "execution_count": 51,
   "id": "967d0a6c-3acd-409b-a540-08f1bf5bb787",
   "metadata": {},
   "outputs": [],
   "source": [
    "bz = BartZeroShot()"
   ]
  },
  {
   "cell_type": "code",
   "execution_count": 52,
   "id": "1d989bc2-14b0-4597-b447-343ffd60fba2",
   "metadata": {},
   "outputs": [
    {
     "data": {
      "text/plain": [
       "0.00032207704498432577"
      ]
     },
     "execution_count": 52,
     "metadata": {},
     "output_type": "execute_result"
    }
   ],
   "source": [
    "bz.predict('I really really hate my life', 'positive')"
   ]
  },
  {
   "cell_type": "code",
   "execution_count": 53,
   "id": "e945a10c-b2b9-4f48-bbc9-5bfe76ea1f77",
   "metadata": {},
   "outputs": [
    {
     "data": {
      "text/plain": [
       "0.9848924875259399"
      ]
     },
     "execution_count": 53,
     "metadata": {},
     "output_type": "execute_result"
    }
   ],
   "source": [
    "bz.predict('I really really love my life', 'positive')"
   ]
  },
  {
   "cell_type": "markdown",
   "id": "0c42fd5b",
   "metadata": {},
   "source": [
    "# RoBERTa Model "
   ]
  },
  {
   "cell_type": "markdown",
   "id": "b31e31ac",
   "metadata": {},
   "source": [
    "## RoBERTa model intialization"
   ]
  },
  {
   "cell_type": "code",
   "execution_count": 55,
   "id": "0f14a5b9-a250-4744-88b3-f22b5ef0e318",
   "metadata": {},
   "outputs": [
    {
     "name": "stderr",
     "output_type": "stream",
     "text": [
      "Some weights of the model checkpoint at roberta-base were not used when initializing RobertaForSequenceClassification: ['lm_head.layer_norm.bias', 'roberta.pooler.dense.bias', 'roberta.pooler.dense.weight', 'lm_head.bias', 'lm_head.dense.weight', 'lm_head.decoder.weight', 'lm_head.dense.bias', 'lm_head.layer_norm.weight']\n",
      "- This IS expected if you are initializing RobertaForSequenceClassification from the checkpoint of a model trained on another task or with another architecture (e.g. initializing a BertForSequenceClassification model from a BertForPreTraining model).\n",
      "- This IS NOT expected if you are initializing RobertaForSequenceClassification from the checkpoint of a model that you expect to be exactly identical (initializing a BertForSequenceClassification model from a BertForSequenceClassification model).\n",
      "Some weights of RobertaForSequenceClassification were not initialized from the model checkpoint at roberta-base and are newly initialized: ['classifier.dense.weight', 'classifier.out_proj.bias', 'classifier.dense.bias', 'classifier.out_proj.weight']\n",
      "You should probably TRAIN this model on a down-stream task to be able to use it for predictions and inference.\n"
     ]
    },
    {
     "data": {
      "text/plain": [
       "Embedding(50265, 768, padding_idx=1)"
      ]
     },
     "execution_count": 55,
     "metadata": {},
     "output_type": "execute_result"
    }
   ],
   "source": [
    "#base model\n",
    "model_name = \"roberta-base\"\n",
    "\n",
    "#intialize the tokenizer with special tokens added to the list\n",
    "sp_tokens = [\"<URL>\", \"<EMAIL>\", \"<PHONE>\", \"<NUMBER>\", \"<CUR>\", \"<USER>\"]\n",
    "sp_tokens = []\n",
    "tokenizer = AutoTokenizer.from_pretrained(model_name)\n",
    "special_tokens = {\n",
    "    'additional_special_tokens': sp_tokens\n",
    "}\n",
    "tokenizer.add_special_tokens(special_tokens)\n",
    "\n",
    "#load the model and configure to binary classification task     \n",
    "model = AutoModelForSequenceClassification.from_pretrained(model_name, num_labels=2).to(DEVICE)\n",
    "model.resize_token_embeddings(len(tokenizer))"
   ]
  },
  {
   "cell_type": "markdown",
   "id": "6f84917d",
   "metadata": {},
   "source": [
    "## process the data"
   ]
  },
  {
   "cell_type": "code",
   "execution_count": 57,
   "id": "d22e39c3-4d12-4fb2-8f4a-d0c4b9e1e369",
   "metadata": {},
   "outputs": [],
   "source": [
    "#return tokenized examples\n",
    "def tokenize_fn(examples, tokenizer):\n",
    "    return tokenizer(examples[\"message_clean\"], padding=\"max_length\", truncation=True)"
   ]
  },
  {
   "cell_type": "code",
   "execution_count": 58,
   "id": "3e5898f9-5953-496a-8189-dd6d93a63643",
   "metadata": {},
   "outputs": [],
   "source": [
    "#preparing the data for hugging face transformers and also for smooth tokenization and encoding\n",
    "train_dataset = Dataset.from_pandas(train)\n",
    "test_dataset = Dataset.from_pandas(test)"
   ]
  },
  {
   "cell_type": "code",
   "execution_count": 59,
   "id": "a16a8d1b-ba1a-4e1d-937a-42b1c556dec6",
   "metadata": {},
   "outputs": [
    {
     "name": "stdout",
     "output_type": "stream",
     "text": [
      "Dataset({\n",
      "    features: ['is_positive', 'id', 'message_clean'],\n",
      "    num_rows: 15999\n",
      "})\n",
      "\n",
      "{'is_positive': 1,\n",
      " 'id': 2068517001,\n",
      " 'message_clean': 'lmfao bribri made tweet bored daii omfg gotta new bed rox'}\n"
     ]
    }
   ],
   "source": [
    "print(train_dataset)\n",
    "print()\n",
    "pprint.pp(train_dataset[0])"
   ]
  },
  {
   "cell_type": "code",
   "execution_count": 60,
   "id": "8e3b4506-9765-4ba2-83d3-6af0ef18aea0",
   "metadata": {},
   "outputs": [
    {
     "data": {
      "application/vnd.jupyter.widget-view+json": {
       "model_id": "",
       "version_major": 2,
       "version_minor": 0
      },
      "text/plain": [
       "Map:   0%|          | 0/15999 [00:00<?, ? examples/s]"
      ]
     },
     "metadata": {},
     "output_type": "display_data"
    },
    {
     "data": {
      "application/vnd.jupyter.widget-view+json": {
       "model_id": "",
       "version_major": 2,
       "version_minor": 0
      },
      "text/plain": [
       "Map:   0%|          | 0/4000 [00:00<?, ? examples/s]"
      ]
     },
     "metadata": {},
     "output_type": "display_data"
    }
   ],
   "source": [
    "#apply tokenize_fn in each examples in the dataset\n",
    "train_dataset = train_dataset.map(lambda x: tokenize_fn(x, tokenizer), batched=True)\n",
    "test_dataset = test_dataset.map(lambda x: tokenize_fn(x, tokenizer), batched=True)"
   ]
  },
  {
   "cell_type": "code",
   "execution_count": 61,
   "id": "45f454c4-cc0f-4651-b787-fb26f36ffa9f",
   "metadata": {},
   "outputs": [
    {
     "data": {
      "text/plain": [
       "dict_keys(['is_positive', 'id', 'message_clean', 'input_ids', 'attention_mask'])"
      ]
     },
     "execution_count": 61,
     "metadata": {},
     "output_type": "execute_result"
    }
   ],
   "source": [
    "train_dataset[0].keys()"
   ]
  },
  {
   "cell_type": "code",
   "execution_count": 62,
   "id": "63ff75a8-52a3-4414-b9c3-44c58eadd4fd",
   "metadata": {},
   "outputs": [],
   "source": [
    "#select the specific or important columns for training & set torch format\n",
    "train_dataset.set_format(\"torch\", columns=[\"input_ids\", \"attention_mask\", \"is_positive\"])\n",
    "test_dataset.set_format(\"torch\", columns=[\"input_ids\", \"attention_mask\", \"is_positive\"])"
   ]
  },
  {
   "cell_type": "code",
   "execution_count": 63,
   "id": "37771dbc-7254-4297-87c7-be56b051d51c",
   "metadata": {},
   "outputs": [
    {
     "data": {
      "text/plain": [
       "dict_keys(['is_positive', 'input_ids', 'attention_mask'])"
      ]
     },
     "execution_count": 63,
     "metadata": {},
     "output_type": "execute_result"
    }
   ],
   "source": [
    "train_dataset[0].keys()"
   ]
  },
  {
   "cell_type": "markdown",
   "id": "d0faed20",
   "metadata": {},
   "source": [
    "## Training and evaluation"
   ]
  },
  {
   "cell_type": "code",
   "execution_count": 65,
   "id": "d4583e1e-d6e3-463b-b04d-4bf2ce0eb1ac",
   "metadata": {},
   "outputs": [],
   "source": [
    "def compute_metrics(pred):\n",
    "    logits = pred.predictions\n",
    "    labels = pred.label_ids\n",
    "    preds = np.argmax(logits, axis=-1)\n",
    "    accuracy = accuracy_score(labels, preds)\n",
    "    precision, recall, f1, _ = precision_recall_fscore_support(labels, preds, average=\"weighted\")\n",
    "    return {\"accuracy\": accuracy, \"precision\": precision, \"recall\": recall, \"f1\": f1}"
   ]
  },
  {
   "cell_type": "code",
   "execution_count": 66,
   "id": "9694a5de-4e18-4a46-a7b8-112d95115804",
   "metadata": {},
   "outputs": [],
   "source": [
    "#hyperparameters\n",
    "EPOCHS = 3\n",
    "TRAIN_BATCH_SIZE = 64\n",
    "EVAL_BATCH_SIZE = 64\n",
    "WARMUPS = 2000\n",
    "DECAY = 0.01"
   ]
  },
  {
   "cell_type": "code",
   "execution_count": 67,
   "id": "1acff0e8-635e-4ead-84b8-762d7e5eaa62",
   "metadata": {},
   "outputs": [],
   "source": [
    "# Training arguments\n",
    "#training_args = TrainingArguments(\n",
    "#    output_dir=f\"./results/{model_name}\",\n",
    "#    overwrite_output_dir=True,\n",
    "#    num_train_epochs=EPOCHS,\n",
    "#    per_device_train_batch_size=TRAIN_BATCH_SIZE,\n",
    "#    per_device_eval_batch_size=EVAL_BATCH_SIZE,\n",
    "#    warmup_steps=WARMUPS,\n",
    "#    weight_decay=DECAY,\n",
    "#    logging_dir=f\"./logs/{model_name}\",\n",
    "#    logging_steps=10,\n",
    "#    evaluation_strategy=\"epoch\",\n",
    "#    save_strategy=\"epoch\",\n",
    "#    seed=SEED,\n",
    "#    load_best_model_at_end=True,\n",
    "#    metric_for_best_model = 'f1')\n",
    "# Trainer\n",
    "#trainer = Trainer(\n",
    "#    model=model,\n",
    "#    args=training_args,\n",
    "#    train_dataset=train_dataset,\n",
    "#    eval_dataset=test_dataset,\n",
    "#    tokenizer=tokenizer,\n",
    "#    compute_metrics=compute_metrics,\n",
    "#)\n",
    "\n",
    "# Train and evaluate\n",
    "#trainer.train()\n",
    "#eval_metrics = trainer.evaluate()\n",
    "\n",
    "#print(f\"Results for {model_name}:\")\n",
    "#print(eval_metrics)\n",
    "\n",
    "#model.save_pretrained(f\"{model_name}-tweet\")\n",
    "#tokenizer.save_pretrained(f\"{model_name}-tweet\")\n",
    "\n",
    "#with open(f\"./{model_name}-tweet/metric.json\", \"w\", encoding=\"utf-8\") as fj:\n",
    "#    json.dump(eval_metrics, fj, indent=2)"
   ]
  },
  {
   "cell_type": "code",
   "execution_count": 72,
   "id": "304e9e32-ae90-49e0-a5e8-9895a7982d54",
   "metadata": {},
   "outputs": [],
   "source": [
    "class TransformerModel:\n",
    "    def __init__(self, model_name_or_path):\n",
    "\n",
    "        self.model = AutoModelForSequenceClassification.from_pretrained(model_name_or_path)\n",
    "        self.tokenizer = AutoTokenizer.from_pretrained(model_name_or_path)\n",
    "\n",
    "    def predict(self, sentence):\n",
    "        x = self.tokenizer.encode(sentence,\n",
    "                             return_tensors='pt',\n",
    "                             max_length=self.tokenizer.model_max_length,\n",
    "                             truncation = True,\n",
    "                             truncation_strategy='only_first')\n",
    "        \n",
    "        logits = self.model(x)[0]\n",
    "        probs = logits.softmax(1)\n",
    "        prob_label_is_true = probs[:,1].item()\n",
    "        return prob_label_is_true\n"
   ]
  },
  {
   "cell_type": "code",
   "execution_count": 69,
   "id": "7046e6d0-13a3-4869-ba8b-52cb9e6e988c",
   "metadata": {},
   "outputs": [],
   "source": [
    "#intialize the saved model\n",
    "m = TransformerModel(\"roberta_model\")"
   ]
  },
  {
   "cell_type": "code",
   "execution_count": 70,
   "id": "4aa4a64e-5d40-41b9-9e8f-7913a7050a9f",
   "metadata": {},
   "outputs": [
    {
     "data": {
      "text/plain": [
       "'negative'"
      ]
     },
     "execution_count": 70,
     "metadata": {},
     "output_type": "execute_result"
    }
   ],
   "source": [
    "#Prediction-1\n",
    "score=m.predict('I really really hate my life')\n",
    "\"positive\" if score > 0.5 else \"negative\""
   ]
  },
  {
   "cell_type": "code",
   "execution_count": 71,
   "id": "b2662d6c-bc09-4115-8a4c-b2aab3857299",
   "metadata": {},
   "outputs": [
    {
     "data": {
      "text/plain": [
       "'positive'"
      ]
     },
     "execution_count": 71,
     "metadata": {},
     "output_type": "execute_result"
    }
   ],
   "source": [
    "#Prediction-2\n",
    "score=m.predict('I really really love my life')\n",
    "\"positive\" if score > 0.5 else \"negative\""
   ]
  },
  {
   "cell_type": "code",
   "execution_count": null,
   "id": "b8009d85",
   "metadata": {},
   "outputs": [],
   "source": [
    "# predicting score for test data"
   ]
  },
  {
   "cell_type": "code",
   "execution_count": 73,
   "id": "b8d39709-12f6-4994-825d-72af96351970",
   "metadata": {},
   "outputs": [
    {
     "data": {
      "application/vnd.jupyter.widget-view+json": {
       "model_id": "acb096fb3b304c1a8337927a70f3eafe",
       "version_major": 2,
       "version_minor": 0
      },
      "text/plain": [
       "  0%|          | 0/4000 [00:00<?, ?it/s]"
      ]
     },
     "metadata": {},
     "output_type": "display_data"
    },
    {
     "data": {
      "text/html": [
       "<div>\n",
       "<style scoped>\n",
       "    .dataframe tbody tr th:only-of-type {\n",
       "        vertical-align: middle;\n",
       "    }\n",
       "\n",
       "    .dataframe tbody tr th {\n",
       "        vertical-align: top;\n",
       "    }\n",
       "\n",
       "    .dataframe thead th {\n",
       "        text-align: right;\n",
       "    }\n",
       "</style>\n",
       "<table border=\"1\" class=\"dataframe\">\n",
       "  <thead>\n",
       "    <tr style=\"text-align: right;\">\n",
       "      <th></th>\n",
       "      <th>is_positive</th>\n",
       "      <th>id</th>\n",
       "      <th>message_clean</th>\n",
       "      <th>model_is_positive</th>\n",
       "    </tr>\n",
       "  </thead>\n",
       "  <tbody>\n",
       "    <tr>\n",
       "      <th>0</th>\n",
       "      <td>1</td>\n",
       "      <td>2002778462</td>\n",
       "      <td>omgosh just find out that this saturday and su...</td>\n",
       "      <td>0.099829</td>\n",
       "    </tr>\n",
       "    <tr>\n",
       "      <th>1</th>\n",
       "      <td>1</td>\n",
       "      <td>1999312849</td>\n",
       "      <td>vivaalecto should have done that good thing th...</td>\n",
       "      <td>0.647896</td>\n",
       "    </tr>\n",
       "    <tr>\n",
       "      <th>2</th>\n",
       "      <td>1</td>\n",
       "      <td>2068763297</td>\n",
       "      <td>roundgoldfish lol would never say that about j...</td>\n",
       "      <td>0.510849</td>\n",
       "    </tr>\n",
       "    <tr>\n",
       "      <th>3</th>\n",
       "      <td>1</td>\n",
       "      <td>1759932260</td>\n",
       "      <td>hath apple jacks</td>\n",
       "      <td>0.799453</td>\n",
       "    </tr>\n",
       "    <tr>\n",
       "      <th>4</th>\n",
       "      <td>0</td>\n",
       "      <td>1995059108</td>\n",
       "      <td>feel pretty stupid after scalding forearm maki...</td>\n",
       "      <td>0.047400</td>\n",
       "    </tr>\n",
       "    <tr>\n",
       "      <th>...</th>\n",
       "      <td>...</td>\n",
       "      <td>...</td>\n",
       "      <td>...</td>\n",
       "      <td>...</td>\n",
       "    </tr>\n",
       "    <tr>\n",
       "      <th>3995</th>\n",
       "      <td>1</td>\n",
       "      <td>1992730610</td>\n",
       "      <td>joshcharles haha the ribbon dancers shall word...</td>\n",
       "      <td>0.966484</td>\n",
       "    </tr>\n",
       "    <tr>\n",
       "      <th>3996</th>\n",
       "      <td>0</td>\n",
       "      <td>1468894557</td>\n",
       "      <td>too</td>\n",
       "      <td>0.122510</td>\n",
       "    </tr>\n",
       "    <tr>\n",
       "      <th>3997</th>\n",
       "      <td>0</td>\n",
       "      <td>2233966849</td>\n",
       "      <td>looks like our days summer are over big heavy ...</td>\n",
       "      <td>0.052709</td>\n",
       "    </tr>\n",
       "    <tr>\n",
       "      <th>3998</th>\n",
       "      <td>1</td>\n",
       "      <td>2176643042</td>\n",
       "      <td>mrspaulkjonas want find some commans music goo...</td>\n",
       "      <td>0.701555</td>\n",
       "    </tr>\n",
       "    <tr>\n",
       "      <th>3999</th>\n",
       "      <td>1</td>\n",
       "      <td>1835657101</td>\n",
       "      <td>jonasbrothers http twitpic com lines vines and...</td>\n",
       "      <td>0.655502</td>\n",
       "    </tr>\n",
       "  </tbody>\n",
       "</table>\n",
       "<p>4000 rows × 4 columns</p>\n",
       "</div>"
      ],
      "text/plain": [
       "      is_positive          id  \\\n",
       "0               1  2002778462   \n",
       "1               1  1999312849   \n",
       "2               1  2068763297   \n",
       "3               1  1759932260   \n",
       "4               0  1995059108   \n",
       "...           ...         ...   \n",
       "3995            1  1992730610   \n",
       "3996            0  1468894557   \n",
       "3997            0  2233966849   \n",
       "3998            1  2176643042   \n",
       "3999            1  1835657101   \n",
       "\n",
       "                                          message_clean  model_is_positive  \n",
       "0     omgosh just find out that this saturday and su...           0.099829  \n",
       "1     vivaalecto should have done that good thing th...           0.647896  \n",
       "2     roundgoldfish lol would never say that about j...           0.510849  \n",
       "3                                      hath apple jacks           0.799453  \n",
       "4     feel pretty stupid after scalding forearm maki...           0.047400  \n",
       "...                                                 ...                ...  \n",
       "3995  joshcharles haha the ribbon dancers shall word...           0.966484  \n",
       "3996                                                too           0.122510  \n",
       "3997  looks like our days summer are over big heavy ...           0.052709  \n",
       "3998  mrspaulkjonas want find some commans music goo...           0.701555  \n",
       "3999  jonasbrothers http twitpic com lines vines and...           0.655502  \n",
       "\n",
       "[4000 rows x 4 columns]"
      ]
     },
     "execution_count": 73,
     "metadata": {},
     "output_type": "execute_result"
    }
   ],
   "source": [
    "text_with_score = []\n",
    "\n",
    "#Loops through the test data and assign the prediction score to model_is_positive column\n",
    "for index, row in tqdm(test.iterrows(), total=len(test)):\n",
    "    score = m.predict(row[\"message_clean\"])\n",
    "    row[\"model_is_positive\"] = score\n",
    "    text_with_score.append(row)\n",
    "    \n",
    "text_with_score = pd.DataFrame(text_with_score)\n",
    "#text_with_score.to_csv(f\"test_with_{model_name}.csv\", sep=\",\", encoding=\"utf-8\", index=False)\n",
    "text_with_score"
   ]
  },
  {
   "cell_type": "markdown",
   "id": "f2dddafe",
   "metadata": {},
   "source": [
    "## comparison "
   ]
  },
  {
   "cell_type": "code",
   "execution_count": 75,
   "id": "3cc73d51-beca-4ec1-acb4-baca01177867",
   "metadata": {},
   "outputs": [],
   "source": [
    "complete_small_dataset = pd.read_csv('dataset_small_w_bart_preds.csv')"
   ]
  },
  {
   "cell_type": "code",
   "execution_count": 76,
   "id": "594de15f-31b8-4d68-b76b-4f3fc7e36951",
   "metadata": {},
   "outputs": [],
   "source": [
    "filtered_bart_df= complete_small_dataset[complete_small_dataset['id'].isin(text_with_score['id'])]"
   ]
  },
  {
   "cell_type": "code",
   "execution_count": 77,
   "id": "5a01e8ff-0031-4734-907d-d208ee526543",
   "metadata": {},
   "outputs": [
    {
     "data": {
      "text/html": [
       "<div>\n",
       "<style scoped>\n",
       "    .dataframe tbody tr th:only-of-type {\n",
       "        vertical-align: middle;\n",
       "    }\n",
       "\n",
       "    .dataframe tbody tr th {\n",
       "        vertical-align: top;\n",
       "    }\n",
       "\n",
       "    .dataframe thead th {\n",
       "        text-align: right;\n",
       "    }\n",
       "</style>\n",
       "<table border=\"1\" class=\"dataframe\">\n",
       "  <thead>\n",
       "    <tr style=\"text-align: right;\">\n",
       "      <th></th>\n",
       "      <th>is_positive</th>\n",
       "      <th>id</th>\n",
       "      <th>datetime</th>\n",
       "      <th>user</th>\n",
       "      <th>message_clean</th>\n",
       "      <th>bart_is_positive</th>\n",
       "    </tr>\n",
       "  </thead>\n",
       "  <tbody>\n",
       "    <tr>\n",
       "      <th>1</th>\n",
       "      <td>1</td>\n",
       "      <td>2192626220</td>\n",
       "      <td>Tue Jun 16 07:18:56 PDT 2009</td>\n",
       "      <td>lpgrant</td>\n",
       "      <td>richmondgl murder train just cracked but you r...</td>\n",
       "      <td>0.003549</td>\n",
       "    </tr>\n",
       "    <tr>\n",
       "      <th>2</th>\n",
       "      <td>0</td>\n",
       "      <td>1824060456</td>\n",
       "      <td>Sat May 16 23:54:19 PDT 2009</td>\n",
       "      <td>starlah</td>\n",
       "      <td>sherrymain thanks for hosting your own birthda...</td>\n",
       "      <td>0.858189</td>\n",
       "    </tr>\n",
       "    <tr>\n",
       "      <th>9</th>\n",
       "      <td>0</td>\n",
       "      <td>2231495939</td>\n",
       "      <td>Thu Jun 18 18:37:42 PDT 2009</td>\n",
       "      <td>pips8404</td>\n",
       "      <td>how many more days tul vacay its gonna long su...</td>\n",
       "      <td>0.771177</td>\n",
       "    </tr>\n",
       "    <tr>\n",
       "      <th>13</th>\n",
       "      <td>1</td>\n",
       "      <td>2189606248</td>\n",
       "      <td>Tue Jun 16 00:26:27 PDT 2009</td>\n",
       "      <td>SoCalii</td>\n",
       "      <td>really missing gio feels like haven talked see...</td>\n",
       "      <td>0.005047</td>\n",
       "    </tr>\n",
       "    <tr>\n",
       "      <th>14</th>\n",
       "      <td>0</td>\n",
       "      <td>1972732646</td>\n",
       "      <td>Sat May 30 09:46:57 PDT 2009</td>\n",
       "      <td>wrcooper84</td>\n",
       "      <td>just said goodbye carie</td>\n",
       "      <td>0.011573</td>\n",
       "    </tr>\n",
       "    <tr>\n",
       "      <th>...</th>\n",
       "      <td>...</td>\n",
       "      <td>...</td>\n",
       "      <td>...</td>\n",
       "      <td>...</td>\n",
       "      <td>...</td>\n",
       "      <td>...</td>\n",
       "    </tr>\n",
       "    <tr>\n",
       "      <th>19980</th>\n",
       "      <td>0</td>\n",
       "      <td>1994523416</td>\n",
       "      <td>Mon Jun 01 12:03:00 PDT 2009</td>\n",
       "      <td>SweetBullshit</td>\n",
       "      <td>auntymartin dont wanna know what happens dont ...</td>\n",
       "      <td>0.021899</td>\n",
       "    </tr>\n",
       "    <tr>\n",
       "      <th>19981</th>\n",
       "      <td>0</td>\n",
       "      <td>2067931339</td>\n",
       "      <td>Sun Jun 07 13:12:21 PDT 2009</td>\n",
       "      <td>Sofiebear</td>\n",
       "      <td>love the sisterhood the travelling pants wish ...</td>\n",
       "      <td>0.677724</td>\n",
       "    </tr>\n",
       "    <tr>\n",
       "      <th>19982</th>\n",
       "      <td>0</td>\n",
       "      <td>1993858577</td>\n",
       "      <td>Mon Jun 01 11:02:25 PDT 2009</td>\n",
       "      <td>MarkBartkowiak</td>\n",
       "      <td>extremly mad cable modem broke got internet ha...</td>\n",
       "      <td>0.001713</td>\n",
       "    </tr>\n",
       "    <tr>\n",
       "      <th>19983</th>\n",
       "      <td>1</td>\n",
       "      <td>2191733486</td>\n",
       "      <td>Tue Jun 16 05:52:13 PDT 2009</td>\n",
       "      <td>antwan_turner</td>\n",
       "      <td>misscasseybaby did few changes profile check o...</td>\n",
       "      <td>0.280869</td>\n",
       "    </tr>\n",
       "    <tr>\n",
       "      <th>19998</th>\n",
       "      <td>1</td>\n",
       "      <td>1563988528</td>\n",
       "      <td>Mon Apr 20 01:12:25 PDT 2009</td>\n",
       "      <td>karenlay_</td>\n",
       "      <td>all you can eat seafood and peking duck buffet</td>\n",
       "      <td>0.483149</td>\n",
       "    </tr>\n",
       "  </tbody>\n",
       "</table>\n",
       "<p>4000 rows × 6 columns</p>\n",
       "</div>"
      ],
      "text/plain": [
       "       is_positive          id                      datetime            user  \\\n",
       "1                1  2192626220  Tue Jun 16 07:18:56 PDT 2009         lpgrant   \n",
       "2                0  1824060456  Sat May 16 23:54:19 PDT 2009         starlah   \n",
       "9                0  2231495939  Thu Jun 18 18:37:42 PDT 2009        pips8404   \n",
       "13               1  2189606248  Tue Jun 16 00:26:27 PDT 2009         SoCalii   \n",
       "14               0  1972732646  Sat May 30 09:46:57 PDT 2009      wrcooper84   \n",
       "...            ...         ...                           ...             ...   \n",
       "19980            0  1994523416  Mon Jun 01 12:03:00 PDT 2009   SweetBullshit   \n",
       "19981            0  2067931339  Sun Jun 07 13:12:21 PDT 2009       Sofiebear   \n",
       "19982            0  1993858577  Mon Jun 01 11:02:25 PDT 2009  MarkBartkowiak   \n",
       "19983            1  2191733486  Tue Jun 16 05:52:13 PDT 2009   antwan_turner   \n",
       "19998            1  1563988528  Mon Apr 20 01:12:25 PDT 2009       karenlay_   \n",
       "\n",
       "                                           message_clean  bart_is_positive  \n",
       "1      richmondgl murder train just cracked but you r...          0.003549  \n",
       "2      sherrymain thanks for hosting your own birthda...          0.858189  \n",
       "9      how many more days tul vacay its gonna long su...          0.771177  \n",
       "13     really missing gio feels like haven talked see...          0.005047  \n",
       "14                               just said goodbye carie          0.011573  \n",
       "...                                                  ...               ...  \n",
       "19980  auntymartin dont wanna know what happens dont ...          0.021899  \n",
       "19981  love the sisterhood the travelling pants wish ...          0.677724  \n",
       "19982  extremly mad cable modem broke got internet ha...          0.001713  \n",
       "19983  misscasseybaby did few changes profile check o...          0.280869  \n",
       "19998     all you can eat seafood and peking duck buffet          0.483149  \n",
       "\n",
       "[4000 rows x 6 columns]"
      ]
     },
     "execution_count": 77,
     "metadata": {},
     "output_type": "execute_result"
    }
   ],
   "source": [
    "filtered_bart_df"
   ]
  },
  {
   "cell_type": "code",
   "execution_count": 80,
   "id": "d5346209-e5ed-46f1-9681-8f78c691c632",
   "metadata": {},
   "outputs": [
    {
     "data": {
      "image/png": "[encoded data removed]",
      "text/plain": [
       "<Figure size 600x600 with 1 Axes>"
      ]
     },
     "metadata": {},
     "output_type": "display_data"
    }
   ],
   "source": [
    "#extract the scores from the data frames\n",
    "bart_scores = filtered_bart_df['bart_is_positive']\n",
    "roberta_scores = text_with_score['model_is_positive']\n",
    "\n",
    "#plotting the frequency using histograms\n",
    "plt.figure(figsize=(6, 6))\n",
    "plt.hist(bart_scores, bins=40, alpha=0.5, label='BART Scores')\n",
    "plt.hist(roberta_scores, bins=40, alpha=0.5, label='Roberta Scores')\n",
    "plt.xlabel('Scores')\n",
    "plt.ylabel('Frequency')\n",
    "plt.title('Comparison of Model Scores')\n",
    "plt.legend()\n",
    "plt.show()"
   ]
  },
  {
   "cell_type": "markdown",
   "id": "35598a04",
   "metadata": {},
   "source": [
    "## evaluation metrics"
   ]
  },
  {
   "cell_type": "code",
   "execution_count": 81,
   "id": "650555b0-76b9-4fac-a10c-cfbcc7ada8ba",
   "metadata": {},
   "outputs": [],
   "source": [
    "#Checking other evaluation metrics\n",
    "#It would be really nice to see the metrics for the provided model to compare with the trained roberta base model"
   ]
  },
  {
   "cell_type": "code",
   "execution_count": 82,
   "id": "cbfde3dd-6728-4356-97f7-c7ef10f016ad",
   "metadata": {},
   "outputs": [],
   "source": [
    "import json\n",
    "f=open('roberta_model/metric.json')\n",
    "roberta = json.load(f)"
   ]
  },
  {
   "cell_type": "code",
   "execution_count": 83,
   "id": "211237af-ebab-4ac5-9d27-8460443e2c81",
   "metadata": {},
   "outputs": [
    {
     "data": {
      "text/plain": [
       "{'eval_loss': 0.385017991065979,\n",
       " 'eval_accuracy': 0.8357638888888889,\n",
       " 'eval_precision': 0.8358819723948089,\n",
       " 'eval_recall': 0.8357638888888889,\n",
       " 'eval_f1': 0.8357494528056394,\n",
       " 'eval_runtime': 18.7066,\n",
       " 'eval_samples_per_second': 153.956,\n",
       " 'eval_steps_per_second': 2.406,\n",
       " 'epoch': 3.0}"
      ]
     },
     "execution_count": 83,
     "metadata": {},
     "output_type": "execute_result"
    }
   ],
   "source": [
    "roberta"
   ]
  }
 ],
 "metadata": {
  "kernelspec": {
   "display_name": "Python 3 (ipykernel)",
   "language": "python",
   "name": "python3"
  },
  "language_info": {
   "codemirror_mode": {
    "name": "ipython",
    "version": 3
   },
   "file_extension": ".py",
   "mimetype": "text/x-python",
   "name": "python",
   "nbconvert_exporter": "python",
   "pygments_lexer": "ipython3",
   "version": "3.11.3"
  }
 },
 "nbformat": 4,
 "nbformat_minor": 5
}
